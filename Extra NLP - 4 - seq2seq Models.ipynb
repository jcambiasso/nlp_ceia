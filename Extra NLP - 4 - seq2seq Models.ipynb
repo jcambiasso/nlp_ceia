{
 "cells": [
  {
   "cell_type": "markdown",
   "metadata": {},
   "source": [
    "# NLP - QA Bot with Seq2seq Models\n",
    "Taking a step away from MTG world, this notebook will try to train a QA Bot using a Sequence to Sequence (seq2seq) model. "
   ]
  },
  {
   "cell_type": "code",
   "execution_count": 68,
   "metadata": {},
   "outputs": [],
   "source": [
    "import re\n",
    "\n",
    "import numpy as np\n",
    "import pandas as pd\n",
    "\n",
    "import tensorflow as tf\n",
    "from keras.preprocessing.text import one_hot\n",
    "from tensorflow.keras.utils import pad_sequences\n",
    "from keras.models import Sequential\n",
    "from keras.layers import Activation, Dropout, Dense\n",
    "from keras.layers import Flatten, LSTM, SimpleRNN\n",
    "from keras.models import Model\n",
    "from tensorflow.keras.layers import Embedding\n",
    "from sklearn.model_selection import train_test_split\n",
    "from keras.preprocessing.text import Tokenizer\n",
    "from keras.layers import Input"
   ]
  },
  {
   "cell_type": "markdown",
   "metadata": {},
   "source": [
    "## Dataset retrieval"
   ]
  },
  {
   "cell_type": "code",
   "execution_count": 69,
   "metadata": {},
   "outputs": [
    {
     "name": "stdout",
     "output_type": "stream",
     "text": [
      "Dataset is already in the folder\n"
     ]
    }
   ],
   "source": [
    "import os\n",
    "import gdown\n",
    "if os.access('./other_datasets/data_volunteers.json', os.F_OK) is False:\n",
    "    url = 'https://drive.google.com/uc?id=1awUxYwImF84MIT5-jCaYAPe2QwSgS1hN&export=download'\n",
    "    output = './other_datasets/data_volunteers.json'\n",
    "    gdown.download(url, output, quiet=False)\n",
    "else:\n",
    "    print(\"Dataset is already in the folder\")"
   ]
  },
  {
   "cell_type": "code",
   "execution_count": 70,
   "metadata": {},
   "outputs": [],
   "source": [
    "# dataset_file\n",
    "import json\n",
    "\n",
    "text_file = './other_datasets/data_volunteers.json'\n",
    "with open(text_file) as f:\n",
    "    data = json.load(f)"
   ]
  },
  {
   "cell_type": "code",
   "execution_count": 71,
   "metadata": {},
   "outputs": [
    {
     "name": "stdout",
     "output_type": "stream",
     "text": [
      "Amount of rows used 6033\n"
     ]
    }
   ],
   "source": [
    "chat_in = []\n",
    "chat_out = []\n",
    "\n",
    "input_sentences = []\n",
    "output_sentences = []\n",
    "output_sentences_inputs = []\n",
    "max_len = 30\n",
    "\n",
    "def clean_text(txt):\n",
    "    txt = txt.lower()    \n",
    "    txt.replace(\"\\'d\", \" had\")\n",
    "    txt.replace(\"\\'s\", \" is\")\n",
    "    txt.replace(\"\\'m\", \" am\")\n",
    "    txt.replace(\"don't\", \"do not\")\n",
    "    txt = re.sub(r'\\W+', ' ', txt)\n",
    "    \n",
    "    return txt\n",
    "\n",
    "for line in data:\n",
    "    for i in range(len(line['dialog'])-1):\n",
    "        chat_in = clean_text(line['dialog'][i]['text'])\n",
    "        chat_out = clean_text(line['dialog'][i+1]['text'])\n",
    "\n",
    "        if len(chat_in) >= max_len or len(chat_out) >= max_len:\n",
    "            continue\n",
    "\n",
    "        input_sentence, output = chat_in, chat_out\n",
    "        \n",
    "        # output sentence (decoder_output) has <eos>\n",
    "        output_sentence = output + ' <eos>'\n",
    "        # output sentence input (decoder_input) has <sos>\n",
    "        output_sentence_input = '<sos> ' + output\n",
    "\n",
    "        input_sentences.append(input_sentence)\n",
    "        output_sentences.append(output_sentence)\n",
    "        output_sentences_inputs.append(output_sentence_input)\n",
    "\n",
    "print(\"Amount of rows used\", len(input_sentences))"
   ]
  },
  {
   "cell_type": "code",
   "execution_count": 72,
   "metadata": {},
   "outputs": [
    {
     "data": {
      "text/plain": [
       "('hi how are you ', 'not bad and you  <eos>', '<sos> not bad and you ')"
      ]
     },
     "execution_count": 72,
     "metadata": {},
     "output_type": "execute_result"
    }
   ],
   "source": [
    "input_sentences[1], output_sentences[1], output_sentences_inputs[1]"
   ]
  },
  {
   "cell_type": "markdown",
   "metadata": {},
   "source": [
    "## Preprocessing"
   ]
  },
  {
   "cell_type": "code",
   "execution_count": 73,
   "metadata": {},
   "outputs": [],
   "source": [
    "# Define a maximum amount of words to use as to reduce RAM consumption.\n",
    "MAX_VOCAB_SIZE = 10000"
   ]
  },
  {
   "cell_type": "markdown",
   "metadata": {},
   "source": [
    "### Input vectorizers and vocab"
   ]
  },
  {
   "cell_type": "code",
   "execution_count": 74,
   "metadata": {},
   "outputs": [
    {
     "name": "stdout",
     "output_type": "stream",
     "text": [
      "Words in input vocab 1799\n",
      "Longest sentence in input corpus 9\n"
     ]
    }
   ],
   "source": [
    "# - num_words --> the maximum number of words to keep, based on word frequency.\n",
    "# - Only the most common num_words-1 words will be kept.\n",
    "from keras.preprocessing.text import Tokenizer\n",
    "\n",
    "input_tokenizer = Tokenizer(num_words=MAX_VOCAB_SIZE)\n",
    "input_tokenizer.fit_on_texts(input_sentences)\n",
    "input_integer_seq = input_tokenizer.texts_to_sequences(input_sentences)\n",
    "\n",
    "word2idx_inputs = input_tokenizer.word_index\n",
    "print(\"Words in input vocab\", len(word2idx_inputs))\n",
    "\n",
    "max_input_len = max(len(sen) for sen in input_integer_seq)\n",
    "print(\"Longest sentence in input corpus\", max_input_len)"
   ]
  },
  {
   "cell_type": "markdown",
   "metadata": {},
   "source": [
    "### Output vectorizers and vocab"
   ]
  },
  {
   "cell_type": "code",
   "execution_count": 75,
   "metadata": {},
   "outputs": [
    {
     "name": "stdout",
     "output_type": "stream",
     "text": [
      "Words in output vocab 1806\n",
      "Longest sentence in output corpus 10\n"
     ]
    }
   ],
   "source": [
    "# Modify the filters to keep the <> characters\n",
    "output_tokenizer = Tokenizer(num_words=MAX_VOCAB_SIZE, filters='!\"#$%&()*+,-./:;=¿?@[\\\\]^_`{|}~\\t\\n')\n",
    "output_tokenizer.fit_on_texts([\"<sos>\", \"<eos>\"] + output_sentences)\n",
    "output_integer_seq = output_tokenizer.texts_to_sequences(output_sentences)\n",
    "output_input_integer_seq = output_tokenizer.texts_to_sequences(output_sentences_inputs)\n",
    "\n",
    "word2idx_outputs = output_tokenizer.word_index\n",
    "print(\"Words in output vocab\", len(word2idx_outputs))\n",
    "\n",
    "num_words_output = min(len(word2idx_outputs) + 1, MAX_VOCAB_SIZE) \n",
    "\n",
    "max_out_len = max(len(sen) for sen in output_integer_seq)\n",
    "print(\"Longest sentence in output corpus\", max_out_len)"
   ]
  },
  {
   "cell_type": "markdown",
   "metadata": {},
   "source": [
    "Encoder inputs have a prefix padding since only the last words are important."
   ]
  },
  {
   "cell_type": "code",
   "execution_count": 76,
   "metadata": {},
   "outputs": [
    {
     "name": "stdout",
     "output_type": "stream",
     "text": [
      "Total dataset length: 6033\n",
      "encoder_input_sequences shape: (6033, 9)\n",
      "decoder_input_sequences shape: (6033, 10)\n"
     ]
    }
   ],
   "source": [
    "print(\"Total dataset length:\", len(input_integer_seq))\n",
    "\n",
    "encoder_input_sequences = pad_sequences(input_integer_seq, maxlen=max_input_len)\n",
    "print(\"encoder_input_sequences shape:\", encoder_input_sequences.shape)\n",
    "\n",
    "decoder_input_sequences = pad_sequences(output_input_integer_seq, maxlen=max_out_len, padding='post')\n",
    "print(\"decoder_input_sequences shape:\", decoder_input_sequences.shape)"
   ]
  },
  {
   "cell_type": "markdown",
   "metadata": {},
   "source": [
    "A softmax categorical output will be used, to output target must be in an OneHot format"
   ]
  },
  {
   "cell_type": "code",
   "execution_count": 77,
   "metadata": {},
   "outputs": [
    {
     "data": {
      "text/plain": [
       "(6033, 10, 1807)"
      ]
     },
     "execution_count": 77,
     "metadata": {},
     "output_type": "execute_result"
    }
   ],
   "source": [
    "from keras.utils import to_categorical\n",
    "decoder_output_sequences = pad_sequences(output_integer_seq, maxlen=max_out_len, padding='post')\n",
    "decoder_targets = to_categorical(decoder_output_sequences, num_classes=num_words_output)\n",
    "decoder_targets.shape"
   ]
  },
  {
   "cell_type": "code",
   "execution_count": 78,
   "metadata": {},
   "outputs": [
    {
     "data": {
      "text/plain": [
       "array([[ 24,  10,   7, ...,   0,   0,   0],\n",
       "       [ 28, 191,  31, ...,   0,   0,   0],\n",
       "       [ 20,   1,   0, ...,   0,   0,   0],\n",
       "       ...,\n",
       "       [ 66, 184, 143, ...,   0,   0,   0],\n",
       "       [  5,   4,   2, ...,   0,   0,   0],\n",
       "       [  1,   0,   0, ...,   0,   0,   0]])"
      ]
     },
     "execution_count": 78,
     "metadata": {},
     "output_type": "execute_result"
    }
   ],
   "source": [
    "decoder_output_sequences"
   ]
  },
  {
   "cell_type": "markdown",
   "metadata": {},
   "source": [
    "## Word Embeddings\n",
    "Utilizar los embeddings de Glove o FastText para transformar los tokens de entrada en vectores"
   ]
  },
  {
   "cell_type": "code",
   "execution_count": 79,
   "metadata": {},
   "outputs": [
    {
     "name": "stdout",
     "output_type": "stream",
     "text": [
      "gloveembedding.pkl embeddings are already present\n"
     ]
    }
   ],
   "source": [
    "import os\n",
    "import gdown\n",
    "if os.access('./other_datasets/gloveembedding.pkl', os.F_OK) is False:\n",
    "    url = 'https://drive.google.com/uc?id=1KY6avD5I1eI2dxQzMkR3WExwKwRq2g94&export=download'\n",
    "    output = './other_datasets/gloveembedding.pkl'\n",
    "    gdown.download(url, output, quiet=False)\n",
    "else:\n",
    "    print(\"gloveembedding.pkl embeddings are already present\")"
   ]
  },
  {
   "cell_type": "code",
   "execution_count": 80,
   "metadata": {},
   "outputs": [],
   "source": [
    "import logging\n",
    "import os\n",
    "from pathlib import Path\n",
    "from io import StringIO\n",
    "import pickle\n",
    "\n",
    "class WordsEmbeddings(object):\n",
    "    logger = logging.getLogger(__name__)\n",
    "\n",
    "    def __init__(self):\n",
    "        # load the embeddings\n",
    "        words_embedding_pkl = Path(self.PKL_PATH)\n",
    "        if not words_embedding_pkl.is_file():\n",
    "            words_embedding_txt = Path(self.WORD_TO_VEC_MODEL_TXT_PATH)\n",
    "            assert words_embedding_txt.is_file(), 'Words embedding not available'\n",
    "            embeddings = self.convert_model_to_pickle()\n",
    "        else:\n",
    "            embeddings = self.load_model_from_pickle()\n",
    "        self.embeddings = embeddings\n",
    "        # build the vocabulary hashmap\n",
    "        index = np.arange(self.embeddings.shape[0])\n",
    "        self.word2idx = dict(zip(self.embeddings['word'], index))\n",
    "        self.idx2word = dict(zip(index, self.embeddings['word']))\n",
    "\n",
    "    def get_words_embeddings(self, words):\n",
    "        words_idxs = self.words2idxs(words)\n",
    "        return self.embeddings[words_idxs]['embedding']\n",
    "\n",
    "    def words2idxs(self, words):\n",
    "        return np.array([self.word2idx.get(word, -1) for word in words])\n",
    "\n",
    "    def idxs2words(self, idxs):\n",
    "        return np.array([self.idx2word.get(idx, '-1') for idx in idxs])\n",
    "\n",
    "    def load_model_from_pickle(self):\n",
    "        self.logger.debug(\n",
    "            'loading words embeddings from pickle {}'.format(\n",
    "                self.PKL_PATH\n",
    "            )\n",
    "        )\n",
    "        max_bytes = 2**28 - 1 # 256MB\n",
    "        bytes_in = bytearray(0)\n",
    "        input_size = os.path.getsize(self.PKL_PATH)\n",
    "        with open(self.PKL_PATH, 'rb') as f_in:\n",
    "            for _ in range(0, input_size, max_bytes):\n",
    "                bytes_in += f_in.read(max_bytes)\n",
    "        embeddings = pickle.loads(bytes_in)\n",
    "        self.logger.debug('words embeddings loaded')\n",
    "        return embeddings\n",
    "\n",
    "    def convert_model_to_pickle(self):\n",
    "        # create a numpy strctured array:\n",
    "        # word     embedding\n",
    "        # U50      np.float32[]\n",
    "        # word_1   a, b, c\n",
    "        # word_2   d, e, f\n",
    "        # ...\n",
    "        # word_n   g, h, i\n",
    "        self.logger.debug(\n",
    "            'converting and loading words embeddings from text file {}'.format(\n",
    "                self.WORD_TO_VEC_MODEL_TXT_PATH\n",
    "            )\n",
    "        )\n",
    "        structure = [('word', np.dtype('U' + str(self.WORD_MAX_SIZE))),\n",
    "                     ('embedding', np.float32, (self.N_FEATURES,))]\n",
    "        structure = np.dtype(structure)\n",
    "        # load numpy array from disk using a generator\n",
    "        with open(self.WORD_TO_VEC_MODEL_TXT_PATH, encoding=\"utf8\") as words_embeddings_txt:\n",
    "            embeddings_gen = (\n",
    "                (line.split()[0], line.split()[1:]) for line in words_embeddings_txt\n",
    "                if len(line.split()[1:]) == self.N_FEATURES\n",
    "            )\n",
    "            embeddings = np.fromiter(embeddings_gen, structure)\n",
    "        # add a null embedding\n",
    "        null_embedding = np.array(\n",
    "            [('null_embedding', np.zeros((self.N_FEATURES,), dtype=np.float32))],\n",
    "            dtype=structure\n",
    "        )\n",
    "        embeddings = np.concatenate([embeddings, null_embedding])\n",
    "        # dump numpy array to disk using pickle\n",
    "        max_bytes = 2**28 - 1 # # 256MB\n",
    "        bytes_out = pickle.dumps(embeddings, protocol=pickle.HIGHEST_PROTOCOL)\n",
    "        with open(self.PKL_PATH, 'wb') as f_out:\n",
    "            for idx in range(0, len(bytes_out), max_bytes):\n",
    "                f_out.write(bytes_out[idx:idx+max_bytes])\n",
    "        self.logger.debug('words embeddings loaded')\n",
    "        return embeddings\n",
    "\n",
    "\n",
    "class GloveEmbeddings(WordsEmbeddings):\n",
    "    WORD_TO_VEC_MODEL_TXT_PATH = 'glove.twitter.27B.50d.txt'\n",
    "    PKL_PATH = './other_datasets/gloveembedding.pkl'\n",
    "    N_FEATURES = 50\n",
    "    WORD_MAX_SIZE = 60\n",
    "\n",
    "class FasttextEmbeddings(WordsEmbeddings):\n",
    "    WORD_TO_VEC_MODEL_TXT_PATH = 'cc.en.300.vec'\n",
    "    PKL_PATH = 'fasttext.pkl'\n",
    "    N_FEATURES = 300\n",
    "    WORD_MAX_SIZE = 60"
   ]
  },
  {
   "cell_type": "code",
   "execution_count": 81,
   "metadata": {},
   "outputs": [],
   "source": [
    "model_embeddings = GloveEmbeddings()"
   ]
  },
  {
   "cell_type": "code",
   "execution_count": 82,
   "metadata": {},
   "outputs": [
    {
     "name": "stdout",
     "output_type": "stream",
     "text": [
      "preparing embedding matrix...\n",
      "number of null word embeddings: 38\n"
     ]
    }
   ],
   "source": [
    "print('preparing embedding matrix...')\n",
    "embed_dim = model_embeddings.N_FEATURES\n",
    "words_not_found = []\n",
    "\n",
    "# word_index provieen del tokenizer\n",
    "\n",
    "nb_words = min(MAX_VOCAB_SIZE, len(word2idx_inputs)) # vocab_size\n",
    "embedding_matrix = np.zeros((nb_words, embed_dim))\n",
    "for word, i in word2idx_inputs.items():\n",
    "    if i >= nb_words:\n",
    "        continue\n",
    "    embedding_vector = model_embeddings.get_words_embeddings(word)[0]\n",
    "    if (embedding_vector is not None) and len(embedding_vector) > 0:\n",
    "        \n",
    "        embedding_matrix[i] = embedding_vector\n",
    "    else:\n",
    "        # words not found in embedding index will be all-zeros.\n",
    "        words_not_found.append(word)\n",
    "\n",
    "print('number of null word embeddings:', np.sum(np.sum(embedding_matrix**2, axis=1) == 0))"
   ]
  },
  {
   "cell_type": "code",
   "execution_count": 83,
   "metadata": {},
   "outputs": [
    {
     "data": {
      "text/plain": [
       "(1799, 50)"
      ]
     },
     "execution_count": 83,
     "metadata": {},
     "output_type": "execute_result"
    }
   ],
   "source": [
    "embedding_matrix.shape"
   ]
  },
  {
   "attachments": {
    "image.png": {
     "image/png": "[encoded data removed]"
    }
   },
   "cell_type": "markdown",
   "metadata": {},
   "source": [
    "## Models\n",
    "This model will be based in the encoder-decoder model, in which, for training, the input to the decoder is the hidden last state of the encoder plus the whole output sequence, predicting also the output sequences. \n",
    "\n",
    "For inference, only the decoder is used and the input of the model is the last hidden state of the encoder (given the input squence) for the first iteration, and then loop the decoder, where the input is the last predicted word and last decoder states, until the \\<eos> (end of sequence) token is predicted.\n",
    "\n",
    "![image.png](attachment:image.png)\n",
    "\n",
    "### Encoder-decoder model for training"
   ]
  },
  {
   "cell_type": "code",
   "execution_count": 84,
   "metadata": {},
   "outputs": [
    {
     "name": "stdout",
     "output_type": "stream",
     "text": [
      "Model: \"model_7\"\n",
      "__________________________________________________________________________________________________\n",
      " Layer (type)                   Output Shape         Param #     Connected to                     \n",
      "==================================================================================================\n",
      " input_13 (InputLayer)          [(None, 9)]          0           []                               \n",
      "                                                                                                  \n",
      " input_14 (InputLayer)          [(None, 10)]         0           []                               \n",
      "                                                                                                  \n",
      " embedding_6 (Embedding)        (None, 9, 50)        89950       ['input_13[0][0]']               \n",
      "                                                                                                  \n",
      " embedding_7 (Embedding)        (None, 10, 64)       115648      ['input_14[0][0]']               \n",
      "                                                                                                  \n",
      " lstm_6 (LSTM)                  [(None, 64),         29440       ['embedding_6[0][0]']            \n",
      "                                 (None, 64),                                                      \n",
      "                                 (None, 64)]                                                      \n",
      "                                                                                                  \n",
      " lstm_7 (LSTM)                  [(None, 10, 64),     33024       ['embedding_7[0][0]',            \n",
      "                                 (None, 64),                      'lstm_6[0][1]',                 \n",
      "                                 (None, 64)]                      'lstm_6[0][2]']                 \n",
      "                                                                                                  \n",
      " dense_3 (Dense)                (None, 10, 1807)     117455      ['lstm_7[0][0]']                 \n",
      "                                                                                                  \n",
      "==================================================================================================\n",
      "Total params: 385,517\n",
      "Trainable params: 295,567\n",
      "Non-trainable params: 89,950\n",
      "__________________________________________________________________________________________________\n"
     ]
    }
   ],
   "source": [
    "from keras.models import Model\n",
    "from keras.layers import Input, LSTM, Dense\n",
    "\n",
    "n_units = 64\n",
    "\n",
    "# define training encoder\n",
    "encoder_inputs = Input(shape=(max_input_len))\n",
    "\n",
    "encoder_embedding_layer = Embedding(\n",
    "          input_dim=nb_words,\n",
    "          output_dim=embed_dim,\n",
    "          input_length=max_input_len,\n",
    "          weights=[embedding_matrix],\n",
    "          trainable=False) \n",
    "\n",
    "encoder_inputs_x = encoder_embedding_layer(encoder_inputs)\n",
    "\n",
    "encoder = LSTM(n_units, return_state=True)\n",
    "encoder_outputs, state_h, state_c = encoder(encoder_inputs_x)\n",
    "encoder_states = [state_h, state_c]\n",
    "\n",
    "# define training decoder\n",
    "decoder_inputs = Input(shape=(max_out_len))\n",
    "decoder_embedding_layer = Embedding(input_dim=num_words_output, output_dim=n_units, input_length=max_out_len)\n",
    "decoder_inputs_x = decoder_embedding_layer(decoder_inputs)\n",
    "\n",
    "decoder_lstm = LSTM(n_units, return_sequences=True, return_state=True)\n",
    "decoder_outputs, _, _ = decoder_lstm(decoder_inputs_x, initial_state=encoder_states)\n",
    "\n",
    "decoder_dense = Dense(num_words_output, activation='softmax')\n",
    "decoder_outputs = decoder_dense(decoder_outputs)\n",
    "model = Model([encoder_inputs, decoder_inputs], decoder_outputs)\n",
    "\n",
    "model.compile(loss='categorical_crossentropy', optimizer=\"Adam\", metrics=['accuracy'])\n",
    "model.summary()"
   ]
  },
  {
   "cell_type": "markdown",
   "metadata": {},
   "source": [
    "### Encoder only model for inference"
   ]
  },
  {
   "cell_type": "code",
   "execution_count": 85,
   "metadata": {},
   "outputs": [],
   "source": [
    "encoder_model = Model(encoder_inputs, encoder_states)"
   ]
  },
  {
   "cell_type": "markdown",
   "metadata": {},
   "source": [
    "### Decoder only model for inference"
   ]
  },
  {
   "cell_type": "code",
   "execution_count": 86,
   "metadata": {},
   "outputs": [],
   "source": [
    "# define inference decoder\n",
    "decoder_state_input_h = Input(shape=(n_units,))\n",
    "decoder_state_input_c = Input(shape=(n_units,))\n",
    "decoder_states_inputs = [decoder_state_input_h, decoder_state_input_c]\n",
    "\n",
    "# In each inference, only one word will be the decoder's input,\n",
    "# so the input shape must change to a single word tensor of shape (1,).\n",
    "decoder_inputs_single = Input(shape=(1,))\n",
    "decoder_inputs_single_x = decoder_embedding_layer(decoder_inputs_single)\n",
    "# Add the new sinlge input to the previously trained decoder_lstm and rebuild output shape.\n",
    "decoder_outputs, state_h, state_c = decoder_lstm(decoder_inputs_single_x, initial_state=decoder_states_inputs)\n",
    "decoder_states = [state_h, state_c]\n",
    "decoder_outputs = decoder_dense(decoder_outputs)\n",
    "# No need to compile since all the weights will be already in place.\n",
    "decoder_model = Model([decoder_inputs_single] + decoder_states_inputs, [decoder_outputs] + decoder_states)"
   ]
  },
  {
   "cell_type": "markdown",
   "metadata": {},
   "source": [
    "### Encoder-decoder model train"
   ]
  },
  {
   "cell_type": "code",
   "execution_count": 87,
   "metadata": {},
   "outputs": [
    {
     "name": "stdout",
     "output_type": "stream",
     "text": [
      "Epoch 1/100\n",
      "151/151 [==============================] - 3s 10ms/step - loss: 3.7372 - accuracy: 0.4837 - val_loss: 2.6438 - val_accuracy: 0.5083\n",
      "Epoch 2/100\n",
      "151/151 [==============================] - 1s 7ms/step - loss: 2.3651 - accuracy: 0.5293 - val_loss: 2.3009 - val_accuracy: 0.6063\n",
      "Epoch 3/100\n",
      "151/151 [==============================] - 1s 7ms/step - loss: 2.1474 - accuracy: 0.6142 - val_loss: 2.1908 - val_accuracy: 0.6376\n",
      "Epoch 4/100\n",
      "151/151 [==============================] - 1s 7ms/step - loss: 2.0010 - accuracy: 0.6406 - val_loss: 2.0939 - val_accuracy: 0.6531\n",
      "Epoch 5/100\n",
      "151/151 [==============================] - 1s 6ms/step - loss: 1.8707 - accuracy: 0.6708 - val_loss: 2.0077 - val_accuracy: 0.6754\n",
      "Epoch 6/100\n",
      "151/151 [==============================] - 1s 7ms/step - loss: 1.7589 - accuracy: 0.6889 - val_loss: 1.9405 - val_accuracy: 0.6852\n",
      "Epoch 7/100\n",
      "151/151 [==============================] - 1s 7ms/step - loss: 1.6730 - accuracy: 0.7046 - val_loss: 1.8863 - val_accuracy: 0.6926\n",
      "Epoch 8/100\n",
      "151/151 [==============================] - 1s 7ms/step - loss: 1.6024 - accuracy: 0.7103 - val_loss: 1.8426 - val_accuracy: 0.6951\n",
      "Epoch 9/100\n",
      "151/151 [==============================] - 1s 6ms/step - loss: 1.5415 - accuracy: 0.7188 - val_loss: 1.8093 - val_accuracy: 0.7027\n",
      "Epoch 10/100\n",
      "151/151 [==============================] - 1s 6ms/step - loss: 1.4898 - accuracy: 0.7273 - val_loss: 1.7815 - val_accuracy: 0.7040\n",
      "Epoch 11/100\n",
      "151/151 [==============================] - 1s 7ms/step - loss: 1.4468 - accuracy: 0.7314 - val_loss: 1.7600 - val_accuracy: 0.7085\n",
      "Epoch 12/100\n",
      "151/151 [==============================] - 1s 7ms/step - loss: 1.4103 - accuracy: 0.7369 - val_loss: 1.7385 - val_accuracy: 0.7113\n",
      "Epoch 13/100\n",
      "151/151 [==============================] - 1s 7ms/step - loss: 1.3787 - accuracy: 0.7397 - val_loss: 1.7257 - val_accuracy: 0.7133\n",
      "Epoch 14/100\n",
      "151/151 [==============================] - 1s 6ms/step - loss: 1.3506 - accuracy: 0.7418 - val_loss: 1.7139 - val_accuracy: 0.7149\n",
      "Epoch 15/100\n",
      "151/151 [==============================] - 1s 6ms/step - loss: 1.3254 - accuracy: 0.7451 - val_loss: 1.7021 - val_accuracy: 0.7164\n",
      "Epoch 16/100\n",
      "151/151 [==============================] - 1s 7ms/step - loss: 1.3016 - accuracy: 0.7489 - val_loss: 1.6920 - val_accuracy: 0.7190\n",
      "Epoch 17/100\n",
      "151/151 [==============================] - 1s 7ms/step - loss: 1.2800 - accuracy: 0.7519 - val_loss: 1.6853 - val_accuracy: 0.7181\n",
      "Epoch 18/100\n",
      "151/151 [==============================] - 1s 7ms/step - loss: 1.2593 - accuracy: 0.7540 - val_loss: 1.6823 - val_accuracy: 0.7208\n",
      "Epoch 19/100\n",
      "151/151 [==============================] - 1s 7ms/step - loss: 1.2403 - accuracy: 0.7583 - val_loss: 1.6779 - val_accuracy: 0.7230\n",
      "Epoch 20/100\n",
      "151/151 [==============================] - 1s 7ms/step - loss: 1.2219 - accuracy: 0.7603 - val_loss: 1.6709 - val_accuracy: 0.7240\n",
      "Epoch 21/100\n",
      "151/151 [==============================] - 1s 6ms/step - loss: 1.2057 - accuracy: 0.7619 - val_loss: 1.6671 - val_accuracy: 0.7273\n",
      "Epoch 22/100\n",
      "151/151 [==============================] - 1s 7ms/step - loss: 1.1897 - accuracy: 0.7637 - val_loss: 1.6638 - val_accuracy: 0.7248\n",
      "Epoch 23/100\n",
      "151/151 [==============================] - 1s 6ms/step - loss: 1.1746 - accuracy: 0.7653 - val_loss: 1.6631 - val_accuracy: 0.7275\n",
      "Epoch 24/100\n",
      "151/151 [==============================] - 1s 6ms/step - loss: 1.1597 - accuracy: 0.7666 - val_loss: 1.6625 - val_accuracy: 0.7274\n",
      "Epoch 25/100\n",
      "151/151 [==============================] - 1s 6ms/step - loss: 1.1459 - accuracy: 0.7679 - val_loss: 1.6623 - val_accuracy: 0.7297\n",
      "Epoch 26/100\n",
      "151/151 [==============================] - 1s 6ms/step - loss: 1.1320 - accuracy: 0.7697 - val_loss: 1.6604 - val_accuracy: 0.7308\n",
      "Epoch 27/100\n",
      "151/151 [==============================] - 1s 6ms/step - loss: 1.1188 - accuracy: 0.7711 - val_loss: 1.6625 - val_accuracy: 0.7289\n",
      "Epoch 28/100\n",
      "151/151 [==============================] - 1s 6ms/step - loss: 1.1060 - accuracy: 0.7726 - val_loss: 1.6601 - val_accuracy: 0.7283\n",
      "Epoch 29/100\n",
      "151/151 [==============================] - 1s 6ms/step - loss: 1.0938 - accuracy: 0.7737 - val_loss: 1.6610 - val_accuracy: 0.7297\n",
      "Epoch 30/100\n",
      "151/151 [==============================] - 1s 6ms/step - loss: 1.0817 - accuracy: 0.7756 - val_loss: 1.6607 - val_accuracy: 0.7305\n",
      "Epoch 31/100\n",
      "151/151 [==============================] - 1s 6ms/step - loss: 1.0700 - accuracy: 0.7759 - val_loss: 1.6613 - val_accuracy: 0.7307\n",
      "Epoch 32/100\n",
      "151/151 [==============================] - 1s 6ms/step - loss: 1.0582 - accuracy: 0.7779 - val_loss: 1.6638 - val_accuracy: 0.7306\n",
      "Epoch 33/100\n",
      "151/151 [==============================] - 1s 6ms/step - loss: 1.0470 - accuracy: 0.7794 - val_loss: 1.6655 - val_accuracy: 0.7326\n",
      "Epoch 34/100\n",
      "151/151 [==============================] - 1s 6ms/step - loss: 1.0362 - accuracy: 0.7799 - val_loss: 1.6664 - val_accuracy: 0.7322\n",
      "Epoch 35/100\n",
      "151/151 [==============================] - 1s 6ms/step - loss: 1.0257 - accuracy: 0.7814 - val_loss: 1.6701 - val_accuracy: 0.7331\n",
      "Epoch 36/100\n",
      "151/151 [==============================] - 1s 7ms/step - loss: 1.0156 - accuracy: 0.7821 - val_loss: 1.6731 - val_accuracy: 0.7321\n",
      "Epoch 37/100\n",
      "151/151 [==============================] - 1s 6ms/step - loss: 1.0051 - accuracy: 0.7834 - val_loss: 1.6742 - val_accuracy: 0.7308\n",
      "Epoch 38/100\n",
      "151/151 [==============================] - 1s 6ms/step - loss: 0.9962 - accuracy: 0.7840 - val_loss: 1.6791 - val_accuracy: 0.7327\n",
      "Epoch 39/100\n",
      "151/151 [==============================] - 1s 6ms/step - loss: 0.9866 - accuracy: 0.7855 - val_loss: 1.6853 - val_accuracy: 0.7327\n",
      "Epoch 40/100\n",
      "151/151 [==============================] - 1s 6ms/step - loss: 0.9769 - accuracy: 0.7870 - val_loss: 1.6827 - val_accuracy: 0.7333\n",
      "Epoch 41/100\n",
      "151/151 [==============================] - 1s 6ms/step - loss: 0.9679 - accuracy: 0.7880 - val_loss: 1.6898 - val_accuracy: 0.7338\n",
      "Epoch 42/100\n",
      "151/151 [==============================] - 1s 6ms/step - loss: 0.9592 - accuracy: 0.7896 - val_loss: 1.6937 - val_accuracy: 0.7325\n",
      "Epoch 43/100\n",
      "151/151 [==============================] - 1s 6ms/step - loss: 0.9502 - accuracy: 0.7908 - val_loss: 1.6987 - val_accuracy: 0.7318\n",
      "Epoch 44/100\n",
      "151/151 [==============================] - 1s 6ms/step - loss: 0.9417 - accuracy: 0.7918 - val_loss: 1.7017 - val_accuracy: 0.7330\n",
      "Epoch 45/100\n",
      "151/151 [==============================] - 1s 6ms/step - loss: 0.9334 - accuracy: 0.7935 - val_loss: 1.7076 - val_accuracy: 0.7330\n",
      "Epoch 46/100\n",
      "151/151 [==============================] - 1s 7ms/step - loss: 0.9252 - accuracy: 0.7945 - val_loss: 1.7121 - val_accuracy: 0.7330\n",
      "Epoch 47/100\n",
      "151/151 [==============================] - 1s 6ms/step - loss: 0.9170 - accuracy: 0.7959 - val_loss: 1.7166 - val_accuracy: 0.7334\n",
      "Epoch 48/100\n",
      "151/151 [==============================] - 1s 6ms/step - loss: 0.9095 - accuracy: 0.7977 - val_loss: 1.7178 - val_accuracy: 0.7344\n",
      "Epoch 49/100\n",
      "151/151 [==============================] - 1s 7ms/step - loss: 0.9015 - accuracy: 0.7989 - val_loss: 1.7231 - val_accuracy: 0.7331\n",
      "Epoch 50/100\n",
      "151/151 [==============================] - 1s 7ms/step - loss: 0.8943 - accuracy: 0.8002 - val_loss: 1.7304 - val_accuracy: 0.7343\n",
      "Epoch 51/100\n",
      "151/151 [==============================] - 1s 6ms/step - loss: 0.8863 - accuracy: 0.8007 - val_loss: 1.7343 - val_accuracy: 0.7332\n",
      "Epoch 52/100\n",
      "151/151 [==============================] - 1s 6ms/step - loss: 0.8792 - accuracy: 0.8029 - val_loss: 1.7418 - val_accuracy: 0.7326\n",
      "Epoch 53/100\n",
      "151/151 [==============================] - 1s 7ms/step - loss: 0.8725 - accuracy: 0.8031 - val_loss: 1.7457 - val_accuracy: 0.7329\n",
      "Epoch 54/100\n",
      "151/151 [==============================] - 1s 6ms/step - loss: 0.8657 - accuracy: 0.8037 - val_loss: 1.7508 - val_accuracy: 0.7330\n",
      "Epoch 55/100\n",
      "151/151 [==============================] - 1s 7ms/step - loss: 0.8588 - accuracy: 0.8048 - val_loss: 1.7543 - val_accuracy: 0.7344\n",
      "Epoch 56/100\n",
      "151/151 [==============================] - 1s 6ms/step - loss: 0.8525 - accuracy: 0.8057 - val_loss: 1.7580 - val_accuracy: 0.7349\n",
      "Epoch 57/100\n",
      "151/151 [==============================] - 1s 6ms/step - loss: 0.8460 - accuracy: 0.8069 - val_loss: 1.7646 - val_accuracy: 0.7331\n",
      "Epoch 58/100\n",
      "151/151 [==============================] - 1s 6ms/step - loss: 0.8402 - accuracy: 0.8076 - val_loss: 1.7698 - val_accuracy: 0.7326\n",
      "Epoch 59/100\n",
      "151/151 [==============================] - 1s 6ms/step - loss: 0.8336 - accuracy: 0.8085 - val_loss: 1.7783 - val_accuracy: 0.7343\n",
      "Epoch 60/100\n",
      "151/151 [==============================] - 1s 6ms/step - loss: 0.8277 - accuracy: 0.8098 - val_loss: 1.7813 - val_accuracy: 0.7345\n",
      "Epoch 61/100\n",
      "151/151 [==============================] - 1s 6ms/step - loss: 0.8220 - accuracy: 0.8108 - val_loss: 1.7886 - val_accuracy: 0.7347\n",
      "Epoch 62/100\n",
      "151/151 [==============================] - 1s 6ms/step - loss: 0.8162 - accuracy: 0.8116 - val_loss: 1.7916 - val_accuracy: 0.7337\n",
      "Epoch 63/100\n",
      "151/151 [==============================] - 1s 6ms/step - loss: 0.8107 - accuracy: 0.8123 - val_loss: 1.7952 - val_accuracy: 0.7332\n",
      "Epoch 64/100\n",
      "151/151 [==============================] - 1s 7ms/step - loss: 0.8056 - accuracy: 0.8132 - val_loss: 1.8019 - val_accuracy: 0.7340\n",
      "Epoch 65/100\n",
      "151/151 [==============================] - 1s 6ms/step - loss: 0.7994 - accuracy: 0.8139 - val_loss: 1.8128 - val_accuracy: 0.7324\n",
      "Epoch 66/100\n",
      "151/151 [==============================] - 1s 7ms/step - loss: 0.7944 - accuracy: 0.8151 - val_loss: 1.8148 - val_accuracy: 0.7337\n",
      "Epoch 67/100\n",
      "151/151 [==============================] - 1s 7ms/step - loss: 0.7890 - accuracy: 0.8158 - val_loss: 1.8187 - val_accuracy: 0.7345\n",
      "Epoch 68/100\n",
      "151/151 [==============================] - 1s 7ms/step - loss: 0.7843 - accuracy: 0.8163 - val_loss: 1.8272 - val_accuracy: 0.7339\n",
      "Epoch 69/100\n",
      "151/151 [==============================] - 1s 6ms/step - loss: 0.7789 - accuracy: 0.8176 - val_loss: 1.8311 - val_accuracy: 0.7321\n",
      "Epoch 70/100\n",
      "151/151 [==============================] - 1s 7ms/step - loss: 0.7742 - accuracy: 0.8187 - val_loss: 1.8374 - val_accuracy: 0.7344\n",
      "Epoch 71/100\n",
      "151/151 [==============================] - 1s 7ms/step - loss: 0.7692 - accuracy: 0.8193 - val_loss: 1.8451 - val_accuracy: 0.7320\n",
      "Epoch 72/100\n",
      "151/151 [==============================] - 1s 7ms/step - loss: 0.7641 - accuracy: 0.8196 - val_loss: 1.8514 - val_accuracy: 0.7307\n",
      "Epoch 73/100\n",
      "151/151 [==============================] - 1s 7ms/step - loss: 0.7602 - accuracy: 0.8202 - val_loss: 1.8597 - val_accuracy: 0.7321\n",
      "Epoch 74/100\n",
      "151/151 [==============================] - 1s 7ms/step - loss: 0.7547 - accuracy: 0.8214 - val_loss: 1.8584 - val_accuracy: 0.7297\n",
      "Epoch 75/100\n",
      "151/151 [==============================] - 1s 6ms/step - loss: 0.7505 - accuracy: 0.8222 - val_loss: 1.8697 - val_accuracy: 0.7325\n",
      "Epoch 76/100\n",
      "151/151 [==============================] - 1s 7ms/step - loss: 0.7455 - accuracy: 0.8240 - val_loss: 1.8750 - val_accuracy: 0.7314\n",
      "Epoch 77/100\n",
      "151/151 [==============================] - 1s 7ms/step - loss: 0.7411 - accuracy: 0.8237 - val_loss: 1.8834 - val_accuracy: 0.7321\n",
      "Epoch 78/100\n",
      "151/151 [==============================] - 1s 7ms/step - loss: 0.7366 - accuracy: 0.8248 - val_loss: 1.8874 - val_accuracy: 0.7326\n",
      "Epoch 79/100\n",
      "151/151 [==============================] - 1s 7ms/step - loss: 0.7327 - accuracy: 0.8253 - val_loss: 1.8901 - val_accuracy: 0.7311\n",
      "Epoch 80/100\n",
      "151/151 [==============================] - 1s 6ms/step - loss: 0.7278 - accuracy: 0.8262 - val_loss: 1.8988 - val_accuracy: 0.7331\n",
      "Epoch 81/100\n",
      "151/151 [==============================] - 1s 6ms/step - loss: 0.7231 - accuracy: 0.8276 - val_loss: 1.9072 - val_accuracy: 0.7304\n",
      "Epoch 82/100\n",
      "151/151 [==============================] - 1s 7ms/step - loss: 0.7190 - accuracy: 0.8280 - val_loss: 1.9106 - val_accuracy: 0.7317\n",
      "Epoch 83/100\n",
      "151/151 [==============================] - 1s 6ms/step - loss: 0.7150 - accuracy: 0.8289 - val_loss: 1.9184 - val_accuracy: 0.7305\n",
      "Epoch 84/100\n",
      "151/151 [==============================] - 1s 7ms/step - loss: 0.7102 - accuracy: 0.8301 - val_loss: 1.9239 - val_accuracy: 0.7302\n",
      "Epoch 85/100\n",
      "151/151 [==============================] - 1s 7ms/step - loss: 0.7059 - accuracy: 0.8306 - val_loss: 1.9305 - val_accuracy: 0.7306\n",
      "Epoch 86/100\n",
      "151/151 [==============================] - 1s 7ms/step - loss: 0.7019 - accuracy: 0.8313 - val_loss: 1.9365 - val_accuracy: 0.7297\n",
      "Epoch 87/100\n",
      "151/151 [==============================] - 1s 6ms/step - loss: 0.6980 - accuracy: 0.8325 - val_loss: 1.9416 - val_accuracy: 0.7276\n",
      "Epoch 88/100\n",
      "151/151 [==============================] - 1s 7ms/step - loss: 0.6939 - accuracy: 0.8323 - val_loss: 1.9488 - val_accuracy: 0.7289\n",
      "Epoch 89/100\n",
      "151/151 [==============================] - 1s 6ms/step - loss: 0.6894 - accuracy: 0.8337 - val_loss: 1.9589 - val_accuracy: 0.7292\n",
      "Epoch 90/100\n",
      "151/151 [==============================] - 1s 6ms/step - loss: 0.6856 - accuracy: 0.8346 - val_loss: 1.9647 - val_accuracy: 0.7283\n",
      "Epoch 91/100\n",
      "151/151 [==============================] - 1s 6ms/step - loss: 0.6816 - accuracy: 0.8357 - val_loss: 1.9672 - val_accuracy: 0.7294\n",
      "Epoch 92/100\n",
      "151/151 [==============================] - 1s 6ms/step - loss: 0.6782 - accuracy: 0.8359 - val_loss: 1.9735 - val_accuracy: 0.7281\n",
      "Epoch 93/100\n",
      "151/151 [==============================] - 1s 6ms/step - loss: 0.6735 - accuracy: 0.8369 - val_loss: 1.9813 - val_accuracy: 0.7289\n",
      "Epoch 94/100\n",
      "151/151 [==============================] - 1s 6ms/step - loss: 0.6701 - accuracy: 0.8373 - val_loss: 1.9847 - val_accuracy: 0.7283\n",
      "Epoch 95/100\n",
      "151/151 [==============================] - 1s 7ms/step - loss: 0.6660 - accuracy: 0.8386 - val_loss: 1.9922 - val_accuracy: 0.7281\n",
      "Epoch 96/100\n",
      "151/151 [==============================] - 1s 7ms/step - loss: 0.6617 - accuracy: 0.8392 - val_loss: 2.0025 - val_accuracy: 0.7279\n",
      "Epoch 97/100\n",
      "151/151 [==============================] - 1s 6ms/step - loss: 0.6578 - accuracy: 0.8399 - val_loss: 2.0030 - val_accuracy: 0.7301\n",
      "Epoch 98/100\n",
      "151/151 [==============================] - 1s 7ms/step - loss: 0.6546 - accuracy: 0.8406 - val_loss: 2.0130 - val_accuracy: 0.7292\n",
      "Epoch 99/100\n",
      "151/151 [==============================] - 1s 7ms/step - loss: 0.6507 - accuracy: 0.8416 - val_loss: 2.0182 - val_accuracy: 0.7271\n",
      "Epoch 100/100\n",
      "151/151 [==============================] - 1s 7ms/step - loss: 0.6472 - accuracy: 0.8419 - val_loss: 2.0286 - val_accuracy: 0.7270\n"
     ]
    }
   ],
   "source": [
    "hist = model.fit(\n",
    "    [encoder_input_sequences, decoder_input_sequences],\n",
    "    decoder_targets,\n",
    "    epochs=100, \n",
    "    validation_split=0.2)"
   ]
  },
  {
   "cell_type": "markdown",
   "metadata": {},
   "source": [
    "### Save model"
   ]
  },
  {
   "cell_type": "code",
   "execution_count": 88,
   "metadata": {},
   "outputs": [],
   "source": [
    "model.save_weights('./other_datasets/models/seq2seq_qa.weights.h5')"
   ]
  },
  {
   "cell_type": "code",
   "execution_count": 89,
   "metadata": {},
   "outputs": [],
   "source": [
    "model.load_weights('./other_datasets/models/seq2seq_qa.weights.h5')"
   ]
  },
  {
   "cell_type": "markdown",
   "metadata": {},
   "source": [
    "## Inference"
   ]
  },
  {
   "cell_type": "markdown",
   "metadata": {},
   "source": [
    "### Sequence to words decoders"
   ]
  },
  {
   "cell_type": "code",
   "execution_count": 90,
   "metadata": {},
   "outputs": [],
   "source": [
    "idx2word_input = {v:k for k, v in word2idx_inputs.items()}\n",
    "idx2word_target = {v:k for k, v in word2idx_outputs.items()}"
   ]
  },
  {
   "cell_type": "code",
   "execution_count": 91,
   "metadata": {},
   "outputs": [],
   "source": [
    "def ask(input_seq):\n",
    "    # Convert input sequence to hidden states via the encoder only model.\n",
    "    states_value = encoder_model.predict(input_seq, verbose = False)\n",
    "\n",
    "    # Set the first word as \"<sos>\"\n",
    "    target_seq = np.zeros((1, 1))\n",
    "    target_seq[0, 0] = word2idx_outputs[\"<sos>\"]\n",
    "\n",
    "    # Get end of sequence token index\n",
    "    eos = word2idx_outputs[\"<eos>\"]\n",
    "    \n",
    "    output_sentence = []\n",
    "    for _ in range(max_out_len):\n",
    "        output_tokens, h, c = decoder_model.predict([target_seq] + states_value, verbose = False)\n",
    "        idx = np.argmax(output_tokens[0, 0, :])\n",
    "\n",
    "        if eos == idx:\n",
    "            break\n",
    "\n",
    "        word = ''        \n",
    "        if idx > 0:\n",
    "            word = idx2word_target[idx]\n",
    "            output_sentence.append(word)\n",
    "\n",
    "        states_value = [h, c]\n",
    "\n",
    "        target_seq[0, 0] = idx\n",
    "\n",
    "    return ' '.join(output_sentence)"
   ]
  },
  {
   "cell_type": "code",
   "execution_count": 92,
   "metadata": {},
   "outputs": [
    {
     "name": "stdout",
     "output_type": "stream",
     "text": [
      "Input: What do you study?\n",
      "Response: i am a student\n"
     ]
    }
   ],
   "source": [
    "input_test = \"What do you study?\"\n",
    "print('Input:', input_test)\n",
    "integer_seq_test = input_tokenizer.texts_to_sequences([input_test])[0]\n",
    "encoder_sequence_test = pad_sequences([integer_seq_test], maxlen=max_input_len)\n",
    "translation = ask(encoder_sequence_test)\n",
    "print('Response:', translation)"
   ]
  },
  {
   "cell_type": "code",
   "execution_count": 103,
   "metadata": {},
   "outputs": [],
   "source": [
    "def ask_complete(question,history):\n",
    "    integer_seq_test = input_tokenizer.texts_to_sequences([question])[0]\n",
    "    encoder_sequence_test = pad_sequences([integer_seq_test], maxlen=max_input_len)\n",
    "    return ask(encoder_sequence_test)"
   ]
  },
  {
   "cell_type": "code",
   "execution_count": 104,
   "metadata": {},
   "outputs": [
    {
     "name": "stderr",
     "output_type": "stream",
     "text": [
      "C:\\Users\\Javier\\AppData\\Roaming\\Python\\Python310\\site-packages\\gradio\\utils.py:1001: UserWarning: Expected 2 arguments for function <function ask_complete at 0x0000014EE161A4D0>, received 1.\n",
      "  warnings.warn(\n",
      "C:\\Users\\Javier\\AppData\\Roaming\\Python\\Python310\\site-packages\\gradio\\utils.py:1005: UserWarning: Expected at least 2 arguments for function <function ask_complete at 0x0000014EE161A4D0>, received 1.\n",
      "  warnings.warn(\n"
     ]
    },
    {
     "name": "stdout",
     "output_type": "stream",
     "text": [
      "Running on local URL:  http://127.0.0.1:7860\n",
      "\n",
      "To create a public link, set `share=True` in `launch()`.\n"
     ]
    },
    {
     "data": {
      "text/html": [
       "<div><iframe src=\"http://127.0.0.1:7860/\" width=\"100%\" height=\"500\" allow=\"autoplay; camera; microphone; clipboard-read; clipboard-write;\" frameborder=\"0\" allowfullscreen></iframe></div>"
      ],
      "text/plain": [
       "<IPython.core.display.HTML object>"
      ]
     },
     "metadata": {},
     "output_type": "display_data"
    },
    {
     "name": "stdout",
     "output_type": "stream",
     "text": [
      "Keyboard interruption in main thread... closing server.\n"
     ]
    },
    {
     "data": {
      "text/plain": []
     },
     "execution_count": 104,
     "metadata": {},
     "output_type": "execute_result"
    }
   ],
   "source": [
    "import gradio as gr\n",
    "iface = gr.ChatInterface(ask_complete).queue()\n",
    "iface.launch(debug=True)"
   ]
  }
 ],
 "metadata": {
  "kernelspec": {
   "display_name": "tf",
   "language": "python",
   "name": "python3"
  },
  "language_info": {
   "codemirror_mode": {
    "name": "ipython",
    "version": 3
   },
   "file_extension": ".py",
   "mimetype": "text/x-python",
   "name": "python",
   "nbconvert_exporter": "python",
   "pygments_lexer": "ipython3",
   "version": "3.10.14"
  }
 },
 "nbformat": 4,
 "nbformat_minor": 2
}
